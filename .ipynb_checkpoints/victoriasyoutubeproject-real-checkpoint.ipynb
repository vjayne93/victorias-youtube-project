{
 "cells": [
  {
   "cell_type": "code",
   "execution_count": 1,
   "id": "2936391b-ec73-4ed6-abf2-c929408248e8",
   "metadata": {},
   "outputs": [],
   "source": [
    "from typing import Iterator\n",
    "from typing import List \n",
    "import glob\n",
    "import difflib\n",
    "import sys\n",
    "import os \n",
    "\n",
    "\n",
    "import json\n",
    "\n",
    "from google_auth_oauthlib.flow import InstalledAppFlow\n",
    "from googleapiclient.discovery import build"
   ]
  },
  {
   "cell_type": "code",
   "execution_count": 2,
   "id": "7edb8455-aac3-41b4-8ab5-9a5f303891f9",
   "metadata": {
    "scrolled": true
   },
   "outputs": [
    {
     "name": "stdout",
     "output_type": "stream",
     "text": [
      "Please visit this URL to authorize this application: https://accounts.google.com/o/oauth2/auth?response_type=code&client_id=324687515765-ied91lfmrsgkqb39cjmecdubjn03tovk.apps.googleusercontent.com&redirect_uri=http%3A%2F%2Flocalhost%3A8080%2F&scope=https%3A%2F%2Fwww.googleapis.com%2Fauth%2Fyoutube.readonly&state=1FQr3eDB6XkgmQlAJQbHjwgrVwvowz&access_type=offline\n"
     ]
    }
   ],
   "source": [
    "def get_authenticated_service(client_secret_file: str, scopes: List[str],\n",
    "                              api_service_name: str, api_version: str):\n",
    "    flow = InstalledAppFlow.from_client_secrets_file(client_secret_file, scopes)\n",
    "    credentials = flow.run_local_server()\n",
    "    return build(api_service_name, api_version, credentials=credentials)\n",
    "\n",
    "\n",
    "current_directory = os.getcwd()\n",
    "client_secret_filename = \"client_secret_file.json\"\n",
    "client_secret_path = os.path.join(current_directory, client_secret_filename)\n",
    "scopes = ['https://www.googleapis.com/auth/youtube.readonly']\n",
    "api_service_name = 'youtube'\n",
    "api_version = 'v3'\n",
    "\n",
    "service = get_authenticated_service(client_secret_path, scopes, api_service_name, api_version)"
   ]
  },
  {
   "cell_type": "code",
   "execution_count": 3,
   "id": "0e29ccd7-33b9-4ae1-8d3d-e6bd231eda06",
   "metadata": {},
   "outputs": [],
   "source": [
    "def get_authenticated_readonly_service(client_secret_file: str):\n",
    "    scopes = ['https://www.googleapis.com/auth/youtube.readonly']\n",
    "    api_service_name = 'youtube'\n",
    "    api_version = 'v3'\n",
    "    return get_authenticated_service(client_secret_file, scopes, api_service_name, api_version)"
   ]
  },
  {
   "cell_type": "code",
   "execution_count": 4,
   "id": "2daaa134-4049-4c90-a5ae-3d6e9b12aac9",
   "metadata": {},
   "outputs": [],
   "source": [
    "def get_authenticated_readwrite_service(client_secret_file: str):\n",
    "    scopes = ['https://www.googleapis.com/auth/youtube']\n",
    "    api_service_name = 'youtube'\n",
    "    api_version = 'v3'\n",
    "    return get_authenticated_service(client_secret_file, scopes, api_service_name, api_version)"
   ]
  },
  {
   "cell_type": "code",
   "execution_count": 5,
   "id": "c6578fc1-37eb-48b9-8f2c-ff5225aba83f",
   "metadata": {},
   "outputs": [],
   "source": [
    "\n",
    "def paginated_results(youtube_listable_resource, list_request, limit_requests=10) -> Iterator:\n",
    "    remaining = -1 if limit_requests is None else limit_requests\n",
    "    while list_request and remaining != 0:\n",
    "        list_response = list_request.execute()\n",
    "        yield list_response\n",
    "        # see googleapiclient/discovery.py createNextMethod for *_next methods\n",
    "        list_request = youtube_listable_resource.list_next(list_request, list_response)\n",
    "        remaining -= 1"
   ]
  },
  {
   "cell_type": "code",
   "execution_count": null,
   "id": "d74991d0-3fa0-4fe9-907c-2a2899a46695",
   "metadata": {},
   "outputs": [],
   "source": []
  },
  {
   "cell_type": "code",
   "execution_count": 6,
   "id": "14730554-7fc0-4f80-9b30-38f0bbadcdaf",
   "metadata": {},
   "outputs": [],
   "source": [
    "def dump_json_to_file(obj, filename):\n",
    "    with open(filename, 'w', encoding='utf-8') as f:\n",
    "        json.dump(obj, f)"
   ]
  },
  {
   "cell_type": "code",
   "execution_count": 7,
   "id": "0adb84b5-5311-4215-806f-f52a7c668bbe",
   "metadata": {},
   "outputs": [],
   "source": [
    "def get_my_uploads_playlist_id(youtube):\n",
    "    # see https://developers.google.com/youtube/v3/docs/channels/list\n",
    "    channels_response = youtube.channels().list(\n",
    "        mine=True,\n",
    "        part='contentDetails'\n",
    "    ).execute()\n",
    "    \n",
    "    for channel in channels_response['items']:\n",
    "        return channel['contentDetails']['relatedPlaylists']['uploads']\n",
    "\n",
    "    return None\n"
   ]
  },
  {
   "cell_type": "code",
   "execution_count": 8,
   "id": "a3b7b5ff-c34d-4a77-9ca6-557fec57df60",
   "metadata": {},
   "outputs": [],
   "source": [
    "def download_playlist_video_snippets(youtube, playlist_id, file_prefix):\n",
    "    # see https://developers.google.com/youtube/v3/docs/playlistItems/list\n",
    "    playlistitems_list_request = youtube.playlistItems().list(\n",
    "        playlistId=playlist_id,\n",
    "        part='snippet',\n",
    "        maxResults=50\n",
    "    )\n",
    "\n",
    "    results = paginated_results(youtube.playlistItems(), playlistitems_list_request)\n",
    "    for page_no, playlistitems_list_response in enumerate(results):\n",
    "        dump_json_to_file(playlistitems_list_response, f'{file_prefix}{page_no}.json')"
   ]
  },
  {
   "cell_type": "code",
   "execution_count": 9,
   "id": "3cdfb93c-109a-42ca-89a8-2a61a83357c7",
   "metadata": {},
   "outputs": [
    {
     "name": "stdout",
     "output_type": "stream",
     "text": [
      "Please visit this URL to authorize this application: https://accounts.google.com/o/oauth2/auth?response_type=code&client_id=324687515765-ied91lfmrsgkqb39cjmecdubjn03tovk.apps.googleusercontent.com&redirect_uri=http%3A%2F%2Flocalhost%3A8080%2F&scope=https%3A%2F%2Fwww.googleapis.com%2Fauth%2Fyoutube.readonly&state=lZZmy4MA8ibDNfLys4JDgOwpXcKdP3&access_type=offline\n"
     ]
    }
   ],
   "source": [
    "os.makedirs('data', exist_ok=True)\n",
    "\n",
    "def main():\n",
    "    client_secret_file = client_secret_path\n",
    "    youtube = get_authenticated_readonly_service(client_secret_file)\n",
    "    uploads_playlist_id = get_my_uploads_playlist_id(youtube)\n",
    "    file_prefix = 'data/my_videos_page_'\n",
    "    if uploads_playlist_id is not None:\n",
    "        download_playlist_video_snippets(youtube, uploads_playlist_id, file_prefix)\n",
    "    else:\n",
    "        print('There is no uploaded videos playlist for this user.')\n",
    "\n",
    "if __name__ == \"__main__\":\n",
    "    main()\n"
   ]
  },
  {
   "cell_type": "code",
   "execution_count": 10,
   "id": "6274e5bf-fd31-4f96-a2c6-ad8b4d13e67b",
   "metadata": {},
   "outputs": [],
   "source": [
    "def format_json_file(input_file, output_file):\n",
    "    with open(input_file, 'r', encoding='utf-8') as f:\n",
    "        data = json.load(f)\n",
    "\n",
    "    with open(output_file, 'w', encoding='utf-8') as f:\n",
    "        json.dump(data, f, indent=4)\n",
    "\n",
    "# Example usage with your input file path\n",
    "input_file = r\"data\\my_videos_page_0.json\"\n",
    "output_file = 'formatted_output.json'  # Replace with the desired output file path\n",
    "\n",
    "format_json_file(input_file, output_file)\n"
   ]
  },
  {
   "cell_type": "code",
   "execution_count": 11,
   "id": "3f8e4514-bd45-48a6-8ac8-1d128e0fb742",
   "metadata": {},
   "outputs": [],
   "source": [
    "def get_videos_from_json_files(files):\n",
    "    videos = []\n",
    "    for filename in files:\n",
    "        with open(filename, 'r', encoding='utf-8') as f:\n",
    "            playlist_list_response = json.load(f)\n",
    "            videos.extend(playlist_list_response['items'])\n",
    "    return videos\n",
    "\n"
   ]
  },
  {
   "cell_type": "code",
   "execution_count": 12,
   "id": "7e332785-5d29-4ea5-a408-db85c7354aac",
   "metadata": {},
   "outputs": [],
   "source": [
    "def load_text_to_prepend(file) -> str:\n",
    "    with open(file, encoding='utf-8') as f:\n",
    "        return ''.join(f.readlines()).strip() + '\\n\\n'"
   ]
  },
  {
   "cell_type": "code",
   "execution_count": 13,
   "id": "dd3e3c13-eba6-4e3f-8b10-3c6a38f788be",
   "metadata": {},
   "outputs": [],
   "source": [
    "def confirm_diff(old: str, new: str) -> bool:\n",
    "    print(\"<<<<<<<<<<<<<<<<<<<<<<<<<<<<<<<< OLD\")\n",
    "    print(old)\n",
    "    print(\">>>>>>>>>>>>>>>>>>>>>>>>>>>>>>>> NEW\")\n",
    "    print(new)\n",
    "    print(\"<<<<<<<<<<<<<<<<<<<<<<<<<<<<<<<< DIFF\")\n",
    "    differ = difflib.unified_diff(old.splitlines(keepends=True), new.splitlines(keepends=True))\n",
    "    sys.stdout.writelines(differ)\n",
    "    print(\">>>>>>>>>>>>>>>>>>>>>>>>>>>>>>>> DONE\")\n",
    "    while True:\n",
    "        decision = input(\"Does this look correct [Y/n]? \")\n",
    "        decision = decision.lower()\n",
    "        if decision == '' or 'y' in decision:\n",
    "            return True\n",
    "        elif 'n' in decision:\n",
    "            return False\n",
    "        print(\"Invalid input, try again\")"
   ]
  },
  {
   "cell_type": "code",
   "execution_count": 14,
   "id": "4c7f0c29-fcb3-45d9-8e63-88b7b516a2c4",
   "metadata": {},
   "outputs": [],
   "source": [
    "def update_description_on_youtube(youtube, video_id, new_description):\n",
    "    if '<' in new_description or '>' in new_description:\n",
    "        raise ValueError('new_description cannot contain < or >')\n",
    "\n",
    "    # see https://developers.google.com/youtube/v3/docs/videos/list\n",
    "    videos_list_response = youtube.videos().list(\n",
    "        id=video_id,\n",
    "        part='snippet'\n",
    "    ).execute()\n",
    "\n",
    "    if not videos_list_response['items']:\n",
    "        raise KeyError(f'Video {video_id} was not found.')\n",
    "\n",
    "    # Since the request specified a video ID, the response only contains one\n",
    "    # video resource. This code extracts the snippet from that resource.\n",
    "    videos_list_snippet = videos_list_response['items'][0]['snippet']\n",
    "\n",
    "    if videos_list_snippet['description'] == new_description:\n",
    "        print(f'Video {video_id}: new description and old description are the same, skipping...')\n",
    "        return\n",
    "\n",
    "    if not confirm_diff(old=videos_list_snippet['description'], new=new_description):\n",
    "        print('diff rejected, aborting program...')\n",
    "        sys.exit(0)\n",
    "\n",
    "    # user has confirmed the new version looks good, go ahead\n",
    "    videos_list_snippet['description'] = new_description\n",
    "\n",
    "    # it seems like a bug in the youtube api that this needs to be done\n",
    "    # a downloaded video may have no tags,\n",
    "    # but omitting tags during upload results in 400 error\n",
    "    if 'tags' not in videos_list_snippet:\n",
    "        videos_list_snippet['tags'] = []\n",
    "\n",
    "    # see https://developers.google.com/youtube/v3/docs/videos/update\n",
    "    videos_update_response = youtube.videos().update(\n",
    "        part='snippet',\n",
    "        body=dict(\n",
    "            snippet=videos_list_snippet,\n",
    "            id=video_id\n",
    "        )).execute()\n",
    "\n",
    "    if videos_update_response['snippet']['description'] != new_description:\n",
    "        raise RuntimeError('update failed')"
   ]
  },
  {
   "cell_type": "code",
   "execution_count": 15,
   "id": "a844c9d2-6578-4236-9fc1-33aa7c9975cb",
   "metadata": {},
   "outputs": [
    {
     "name": "stdout",
     "output_type": "stream",
     "text": [
      "loaded len(videos)=4\n"
     ]
    },
    {
     "name": "stdin",
     "output_type": "stream",
     "text": [
      "Start update process (must type YES)?  YES\n"
     ]
    },
    {
     "name": "stdout",
     "output_type": "stream",
     "text": [
      "Please visit this URL to authorize this application: https://accounts.google.com/o/oauth2/auth?response_type=code&client_id=324687515765-ied91lfmrsgkqb39cjmecdubjn03tovk.apps.googleusercontent.com&redirect_uri=http%3A%2F%2Flocalhost%3A8080%2F&scope=https%3A%2F%2Fwww.googleapis.com%2Fauth%2Fyoutube&state=xqiSnFRPVGiSnwF5LcSFNOTuZLvKlH&access_type=offline\n",
      "<<<<<<<<<<<<<<<<<<<<<<<<<<<<<<<< OLD\n",
      "\n",
      ">>>>>>>>>>>>>>>>>>>>>>>>>>>>>>>> NEW\n",
      "Visit us online at www.southphillyfridge.com !\n",
      "\n",
      "\n",
      "<<<<<<<<<<<<<<<<<<<<<<<<<<<<<<<< DIFF\n",
      "--- \n",
      "+++ \n",
      "@@ -0,0 +1,2 @@\n",
      "+Visit us online at www.southphillyfridge.com !\n",
      "+\n",
      ">>>>>>>>>>>>>>>>>>>>>>>>>>>>>>>> DONE\n"
     ]
    },
    {
     "name": "stdin",
     "output_type": "stream",
     "text": [
      "Does this look correct [Y/n]?  Y\n"
     ]
    },
    {
     "ename": "RuntimeError",
     "evalue": "update failed",
     "output_type": "error",
     "traceback": [
      "\u001b[1;31m---------------------------------------------------------------------------\u001b[0m",
      "\u001b[1;31mRuntimeError\u001b[0m                              Traceback (most recent call last)",
      "Cell \u001b[1;32mIn[15], line 42\u001b[0m\n\u001b[0;32m     39\u001b[0m     \u001b[38;5;28;01mfor\u001b[39;00m video_id, new_description \u001b[38;5;129;01min\u001b[39;00m new_descriptions\u001b[38;5;241m.\u001b[39mitems():\n\u001b[0;32m     40\u001b[0m         update_description_on_youtube(youtube, video_id, new_description)\n\u001b[1;32m---> 42\u001b[0m main()\n",
      "Cell \u001b[1;32mIn[15], line 40\u001b[0m, in \u001b[0;36mmain\u001b[1;34m()\u001b[0m\n\u001b[0;32m     37\u001b[0m youtube \u001b[38;5;241m=\u001b[39m get_authenticated_readwrite_service(client_secret_file)\n\u001b[0;32m     39\u001b[0m \u001b[38;5;28;01mfor\u001b[39;00m video_id, new_description \u001b[38;5;129;01min\u001b[39;00m new_descriptions\u001b[38;5;241m.\u001b[39mitems():\n\u001b[1;32m---> 40\u001b[0m     update_description_on_youtube(youtube, video_id, new_description)\n",
      "Cell \u001b[1;32mIn[14], line 44\u001b[0m, in \u001b[0;36mupdate_description_on_youtube\u001b[1;34m(youtube, video_id, new_description)\u001b[0m\n\u001b[0;32m     36\u001b[0m videos_update_response \u001b[38;5;241m=\u001b[39m youtube\u001b[38;5;241m.\u001b[39mvideos()\u001b[38;5;241m.\u001b[39mupdate(\n\u001b[0;32m     37\u001b[0m     part\u001b[38;5;241m=\u001b[39m\u001b[38;5;124m'\u001b[39m\u001b[38;5;124msnippet\u001b[39m\u001b[38;5;124m'\u001b[39m,\n\u001b[0;32m     38\u001b[0m     body\u001b[38;5;241m=\u001b[39m\u001b[38;5;28mdict\u001b[39m(\n\u001b[0;32m     39\u001b[0m         snippet\u001b[38;5;241m=\u001b[39mvideos_list_snippet,\n\u001b[0;32m     40\u001b[0m         \u001b[38;5;28mid\u001b[39m\u001b[38;5;241m=\u001b[39mvideo_id\n\u001b[0;32m     41\u001b[0m     ))\u001b[38;5;241m.\u001b[39mexecute()\n\u001b[0;32m     43\u001b[0m \u001b[38;5;28;01mif\u001b[39;00m videos_update_response[\u001b[38;5;124m'\u001b[39m\u001b[38;5;124msnippet\u001b[39m\u001b[38;5;124m'\u001b[39m][\u001b[38;5;124m'\u001b[39m\u001b[38;5;124mdescription\u001b[39m\u001b[38;5;124m'\u001b[39m] \u001b[38;5;241m!=\u001b[39m new_description:\n\u001b[1;32m---> 44\u001b[0m     \u001b[38;5;28;01mraise\u001b[39;00m \u001b[38;5;167;01mRuntimeError\u001b[39;00m(\u001b[38;5;124m'\u001b[39m\u001b[38;5;124mupdate failed\u001b[39m\u001b[38;5;124m'\u001b[39m)\n",
      "\u001b[1;31mRuntimeError\u001b[0m: update failed"
     ]
    }
   ],
   "source": [
    "def get_videos_from_json_files(files):\n",
    "    videos = []\n",
    "    for filename in files:\n",
    "        with open(filename, 'r', encoding='utf-8') as f:\n",
    "            playlist_list_response = json.load(f)\n",
    "            videos.extend(playlist_list_response['items'])\n",
    "    return videos\n",
    "\n",
    "\n",
    "def load_text_to_prepend(file) -> str:\n",
    "    with open(file, encoding='utf-8') as f:\n",
    "        return ''.join(f.readlines()).strip() + '\\n\\n'\n",
    "\n",
    "\n",
    "def main():\n",
    "    # Create the 'videos' variable inside the main function\n",
    "    files = glob.glob('data/my_videos_page_*.json')\n",
    "    videos = get_videos_from_json_files(files)\n",
    "    print(f'loaded {len(videos)=}')\n",
    "\n",
    "    # Filter videos based on description\n",
    "    videos = [v for v in videos if 'Visit us online at www.southphillyfridge.com !' not in v['snippet']['description'].lower()]\n",
    "\n",
    "    # Load the new text to prepend\n",
    "    new_text = load_text_to_prepend(r\"fridge_donate.txt\")\n",
    "    \n",
    "    # Create new descriptions\n",
    "    new_descriptions = {\n",
    "        v['snippet']['resourceId']['videoId']: new_text + v['snippet']['description']\n",
    "        for v in videos\n",
    "    }\n",
    "\n",
    "    if input(\"Start update process (must type YES)? \") != \"YES\":\n",
    "        return\n",
    "\n",
    "    client_secret_file = client_secret_path\n",
    "    youtube = get_authenticated_readwrite_service(client_secret_file)\n",
    "\n",
    "    for video_id, new_description in new_descriptions.items():\n",
    "        update_description_on_youtube(youtube, video_id, new_description)\n",
    "\n",
    "main()"
   ]
  },
  {
   "cell_type": "code",
   "execution_count": null,
   "id": "a87c7902-9bf3-4253-8fa3-89eae5bce5c3",
   "metadata": {},
   "outputs": [],
   "source": []
  },
  {
   "cell_type": "code",
   "execution_count": null,
   "id": "4b886c8e-eb2b-4038-a360-bdc4095c7c47",
   "metadata": {},
   "outputs": [],
   "source": []
  }
 ],
 "metadata": {
  "kernelspec": {
   "display_name": "Python 3 (ipykernel)",
   "language": "python",
   "name": "python3"
  },
  "language_info": {
   "codemirror_mode": {
    "name": "ipython",
    "version": 3
   },
   "file_extension": ".py",
   "mimetype": "text/x-python",
   "name": "python",
   "nbconvert_exporter": "python",
   "pygments_lexer": "ipython3",
   "version": "3.11.5"
  }
 },
 "nbformat": 4,
 "nbformat_minor": 5
}
